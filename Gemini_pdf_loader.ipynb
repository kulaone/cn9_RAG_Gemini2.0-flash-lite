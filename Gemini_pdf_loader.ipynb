{
 "cells": [
  {
   "cell_type": "markdown",
   "metadata": {},
   "source": [
    " I put Gemini 2.0 Flash Lite to the test as an OCR solution for PDFs within a Retrieval-Augmented Generation (RAG) system. Instead of using traditional document loaders in LangChain, I explore how Gemini can extract text more effectively, especially when dealing with complex layouts."
   ]
  },
  {
   "cell_type": "code",
   "execution_count": null,
   "metadata": {
    "vscode": {
     "languageId": "plaintext"
    }
   },
   "outputs": [],
   "source": [
    "pip install --upgrade google-genai pypdf2 langchain-core tqdm"
   ]
  },
  {
   "cell_type": "code",
   "execution_count": null,
   "metadata": {
    "vscode": {
     "languageId": "plaintext"
    }
   },
   "outputs": [],
   "source": [
    "from concurrent.futures import ThreadPoolExecutor\n",
    "from langchain_core.documents import Document\n",
    "from PyPDF2 import PdfReader, PdfWriter\n",
    "from dotenv import load_dotenv\n",
    "from google.genai import types\n",
    "from google import genai\n",
    "from typing import List\n",
    "from tqdm import tqdm\n",
    "import threading\n",
    "import base64\n",
    "import json\n",
    "import io\n",
    "import os\n",
    "load_dotenv()"
   ]
  },
  {
   "cell_type": "code",
   "execution_count": null,
   "metadata": {
    "vscode": {
     "languageId": "plaintext"
    }
   },
   "outputs": [],
   "source": [
    "# Setting up an API key for the Google API library.\n",
    "\n",
    "API_KEY = \"[your-api-key]\"\n",
    "\n",
    "if not API_KEY or API_KEY == \"[your-api-key]\":\n",
    "    API_KEY = os.getenv('GOOGLE_API_KEY')\n",
    "\n",
    "client = genai.Client(api_key=API_KEY)"
   ]
  },
  {
   "cell_type": "code",
   "execution_count": null,
   "metadata": {
    "vscode": {
     "languageId": "plaintext"
    }
   },
   "outputs": [],
   "source": [
    "def get_pdf_reader_and_metadata(pdf_path):\n",
    "    \"\"\"\n",
    "    Creates a PDF reader and extracts metadata from the PDF file.\n",
    "\n",
    "    Args:\n",
    "    - pdf_path (str): The file path of the input PDF.\n",
    "\n",
    "    Returns:\n",
    "    - tuple: (PdfReader object, metadata dictionary)\n",
    "    \"\"\"\n",
    "    reader = PdfReader(pdf_path)\n",
    "    metadata = {\n",
    "        \"total_pages\": len(reader.pages),\n",
    "        \"title\": reader.metadata.get('/Title', ''),\n",
    "        \"author\": reader.metadata.get('/Author', ''),\n",
    "        \"creation_date\": reader.metadata.get('/CreationDate', '')\n",
    "    }\n",
    "    return reader, metadata\n",
    "\n",
    "def extract_page(reader, page_number):\n",
    "    \"\"\"\n",
    "    Extracts a single page from a PDF reader and returns it as bytes.\n",
    "\n",
    "    Args:\n",
    "    - reader (PdfReader): The PDF reader object\n",
    "    - page_number (int): The page number to extract (0-indexed)\n",
    "\n",
    "    Returns:\n",
    "    - tuple: (bytes of the PDF page, None if page number is invalid)\n",
    "    \"\"\"\n",
    "    # Check if the page number is valid\n",
    "    total_pages = len(reader.pages)\n",
    "    if page_number < 0 or page_number >= total_pages:\n",
    "        print(f\"Page {page_number} is out of range. This PDF has {total_pages} pages.\")\n",
    "        return None\n",
    "\n",
    "    # Initialize the PDF writer and add the specified page\n",
    "    writer = PdfWriter()\n",
    "    writer.add_page(reader.pages[page_number])\n",
    "\n",
    "    # Write to bytes buffer instead of file\n",
    "    buffer = io.BytesIO()\n",
    "    writer.write(buffer)\n",
    "\n",
    "    return buffer.getvalue()"
   ]
  },
  {
   "cell_type": "code",
   "execution_count": null,
   "metadata": {
    "vscode": {
     "languageId": "plaintext"
    }
   },
   "outputs": [],
   "source": [
    "\n",
    "\n",
    "def generate(b64Page, metadata):\n",
    "\n",
    "  document1_1 = types.Part.from_bytes(\n",
    "      data=b64Page,\n",
    "      mime_type=\"application/pdf\",\n",
    "  )\n",
    "  textsi_1 = \"\"\"You are tasked with converting a PDF document to text in markdown format. Your goal is to accurately represent the content, structure, and layout of the original PDF while using markdown syntax. Follow these instructions carefully:\n",
    "      To convert this PDF content to markdown format, follow these steps:\n",
    "\n",
    "      1. Document Structure:\n",
    "       - Preserve the overall structure of the document.\n",
    "       - Use appropriate markdown syntax for headers, subheaders, and sections.\n",
    "       - Maintain the original hierarchy of the document.\n",
    "\n",
    "      2. Text Formatting:\n",
    "       - Convert basic text to plain markdown text.\n",
    "       - Use markdown syntax for bold (**text**), italic (*text*), and strikethrough (~~text~~) where applicable.\n",
    "       - Preserve any special characters or symbols as they appear in the original document.\n",
    "\n",
    "      3. Headers:\n",
    "       - Use the appropriate number of hash symbols (#) to represent different header levels.\n",
    "       - Example: # for H1, ## for H2, ### for H3, and so on.\n",
    "\n",
    "      4. Paragraphs:\n",
    "       - Separate paragraphs with a blank line.\n",
    "       - Preserve any indentation or special formatting within paragraphs.\n",
    "\n",
    "      5. Lists:\n",
    "       - Use - for unordered lists and 1. 2. 3. for ordered lists.\n",
    "       - Maintain the original indentation for nested lists.\n",
    "\n",
    "      6. Tables:\n",
    "       - Convert tables to markdown table format.\n",
    "       - Use | to separate columns and - to create the header row.\n",
    "       - Align columns using : in the header row (e.g., |:---:| for center alignment).\n",
    "\n",
    "      7. Links:\n",
    "       - Convert hyperlinks to markdown format: [link text](URL)\n",
    "\n",
    "      8. Images:\n",
    "       - For each image/chart in the PDF, insert a placeholder in the following format:\n",
    "        [Image Description]\n",
    "       - Provide a full description of the image in place of \\\"Image Description\\\".\n",
    "      - describe the image in detail, like you would describe it to a blind person.\n",
    "\n",
    "      9. Footnotes:\n",
    "       - Use markdown footnote syntax: [^1] for the reference and [^1]: Footnote text for the footnote content.\n",
    "       - Place all footnotes at the end of the document.\n",
    "\n",
    "      10. Code Blocks:\n",
    "       - Use triple backticks (```) to enclose code blocks.\n",
    "       - Specify the language after the opening backticks if applicable.\n",
    "\n",
    "      11. Blockquotes:\n",
    "       - Use > to indicate blockquotes.\n",
    "       - For nested blockquotes, use multiple > symbols.\n",
    "\n",
    "      12. Horizontal Rules:\n",
    "       - Use three or more hyphens (---) on a line by themselves to create a horizontal rule.\n",
    "\n",
    "      13. Special Elements:\n",
    "       - If there are any special elements in the PDF (e.g., mathematical equations, diagrams), describe them in plain text within square brackets.\n",
    "\n",
    "      14. Preserve Layout:\n",
    "       - Maintain the original layout as much as possible, including line breaks and spacing.\n",
    "       - Use empty lines and appropriate markdown syntax to recreate the visual structure of the document.\n",
    "\n",
    "      Once you have converted the entire PDF content to markdown format.  Ensure that all elements of the original document are accurately represented in the markdown version.\"\"\"\n",
    "\n",
    "  # model = \"gemini-2.0-flash-001\"\n",
    "  model = \"gemini-2.0-flash-lite-preview-02-05\"\n",
    "  contents = [\n",
    "    types.Content(\n",
    "      role=\"user\",\n",
    "      parts=[\n",
    "        document1_1,\n",
    "        types.Part.from_text(text=\"\"\"convert this file\"\"\")\n",
    "      ]\n",
    "    ),\n",
    "  ]\n",
    "  generate_content_config = types.GenerateContentConfig(\n",
    "    temperature = 0,\n",
    "    top_p = 0.95,\n",
    "    max_output_tokens = 8192,\n",
    "    response_modalities = [\"TEXT\"],\n",
    "    safety_settings = [types.SafetySetting(\n",
    "      category=\"HARM_CATEGORY_HATE_SPEECH\",\n",
    "      threshold=\"OFF\"\n",
    "    ),types.SafetySetting(\n",
    "      category=\"HARM_CATEGORY_DANGEROUS_CONTENT\",\n",
    "      threshold=\"OFF\"\n",
    "    ),types.SafetySetting(\n",
    "      category=\"HARM_CATEGORY_SEXUALLY_EXPLICIT\",\n",
    "      threshold=\"OFF\"\n",
    "    ),types.SafetySetting(\n",
    "      category=\"HARM_CATEGORY_HARASSMENT\",\n",
    "      threshold=\"OFF\"\n",
    "    )],\n",
    "    response_mime_type = \"application/json\",\n",
    "    response_schema = {\n",
    "      \"type\": \"OBJECT\",\n",
    "      \"properties\": {\n",
    "          \"page_content\": {\n",
    "              \"type\": \"STRING\",\n",
    "              \"description\": \"The content of the document.\"\n",
    "          },\n",
    "      },\n",
    "      \"required\": [\"page_content\"]\n",
    "    },    \n",
    "    system_instruction=[types.Part.from_text(text=textsi_1)],\n",
    "  )\n",
    "\n",
    "  response = client.models.generate_content(\n",
    "    model = model,\n",
    "    contents = contents,\n",
    "    config = generate_content_config,\n",
    "  )\n",
    "  response_dict = json.loads(response.text)\n",
    "    \n",
    "    # Create a Document object\n",
    "  return Document(\n",
    "      page_content=response_dict['page_content'],\n",
    "      metadata=metadata  # Using the metadata from extract_page_from_pdf\n",
    "  )"
   ]
  },
  {
   "cell_type": "markdown",
   "metadata": {},
   "source": [
    "# Single Page Demo"
   ]
  },
  {
   "cell_type": "code",
   "execution_count": null,
   "metadata": {
    "vscode": {
     "languageId": "plaintext"
    }
   },
   "outputs": [],
   "source": [
    "pdf_path = \"<your file path>\"\n",
    "page_number = 0  # Remember, the first page is 0\n",
    "reader, metadata = get_pdf_reader_and_metadata(pdf_path)\n",
    "metadata['page'] = page_number + 1\n",
    "b64Page = extract_page(reader, page_number)\n",
    "document_page = generate(b64Page, metadata)\n",
    "print(document_page)"
   ]
  },
  {
   "cell_type": "markdown",
   "metadata": {},
   "source": [
    "# Load full PDF file"
   ]
  },
  {
   "cell_type": "code",
   "execution_count": null,
   "metadata": {
    "vscode": {
     "languageId": "plaintext"
    }
   },
   "outputs": [],
   "source": [
    "def process_all_pages(pdf_path):\n",
    "    \"\"\"\n",
    "    Processes all pages in a PDF and returns an array of Document objects.\n",
    "    \n",
    "    Args:\n",
    "    - pdf_path (str): The file path of the input PDF.\n",
    "    \n",
    "    Returns:\n",
    "    - list: Array of Document objects, one for each page\n",
    "    \"\"\"\n",
    "    # Initialize the PDF reader and get metadata\n",
    "    reader, metadata = get_pdf_reader_and_metadata(pdf_path)\n",
    "    documents = []\n",
    "    \n",
    "    # Process each page\n",
    "    for page_number in tqdm(range(len(reader.pages)), desc=\"Processing pages\"):\n",
    "        # Update metadata for current page\n",
    "        page_metadata = metadata.copy()\n",
    "        page_metadata['page'] = page_number + 1\n",
    "        \n",
    "        # Extract and process page\n",
    "        b64_page = extract_page(reader, page_number)\n",
    "        document_page = generate(b64_page, page_metadata)\n",
    "        documents.append(document_page)\n",
    "    \n",
    "    return documents"
   ]
  },
  {
   "cell_type": "code",
   "execution_count": null,
   "metadata": {
    "vscode": {
     "languageId": "plaintext"
    }
   },
   "outputs": [],
   "source": [
    "pdf_path = \"<Your file path>\"\n",
    "all_documents = process_all_pages(pdf_path)"
   ]
  },
  {
   "cell_type": "markdown",
   "metadata": {},
   "source": [
    "# Parallel processing"
   ]
  },
  {
   "cell_type": "code",
   "execution_count": null,
   "metadata": {
    "vscode": {
     "languageId": "plaintext"
    }
   },
   "outputs": [],
   "source": [
    "def process_page(args) -> tuple[int, Document]:\n",
    "    \"\"\"\n",
    "    Process a single page and return it with its index for ordering.\n",
    "    \n",
    "    Args:\n",
    "    - args: tuple containing (page_number, pdf_path, metadata)\n",
    "    \n",
    "    Returns:\n",
    "    - tuple: (page_number, Document)\n",
    "    \"\"\"\n",
    "    page_number, pdf_path, metadata = args\n",
    "    \n",
    "    # Create a new reader instance for this page\n",
    "    reader = PdfReader(pdf_path)\n",
    "    \n",
    "    # Update metadata for current page\n",
    "    page_metadata = metadata.copy()\n",
    "    page_metadata['page'] = page_number + 1\n",
    "    \n",
    "    # Extract and process page\n",
    "    b64_page = extract_page(reader, page_number)\n",
    "    document_page = generate(b64_page, page_metadata)\n",
    "    \n",
    "    return page_number, document_page\n",
    "\n",
    "def process_all_pages_parallel(pdf_path: str, batch_size: int = 3) -> List[Document]:\n",
    "    \"\"\"\n",
    "    Processes all pages in a PDF in parallel batches and returns an ordered array of Document objects.\n",
    "    \n",
    "    Args:\n",
    "    - pdf_path (str): The file path of the input PDF\n",
    "    - batch_size (int): Number of pages to process in parallel (default: 3)\n",
    "    \n",
    "    Returns:\n",
    "    - list: Ordered array of Document objects, one for each page\n",
    "    \"\"\"\n",
    "    # Get initial metadata and page count\n",
    "    reader = PdfReader(pdf_path)\n",
    "    total_pages = len(reader.pages)\n",
    "    metadata = {\n",
    "        \"total_pages\": total_pages,\n",
    "        \"title\": reader.metadata.get('/Title', ''),\n",
    "        \"author\": reader.metadata.get('/Author', ''),\n",
    "        \"creation_date\": reader.metadata.get('/CreationDate', '')\n",
    "    }\n",
    "    documents = [None] * total_pages  # Pre-allocate list with correct size\n",
    "    \n",
    "    # Create progress bar\n",
    "    pbar = tqdm(total=total_pages, desc=\"Processing pages\")\n",
    "    pbar_lock = threading.Lock()\n",
    "    \n",
    "    def process_batch(start_idx: int, end_idx: int):\n",
    "        with ThreadPoolExecutor(max_workers=batch_size) as executor:\n",
    "            # Create arguments for each page in the batch\n",
    "            batch_args = [(i, pdf_path, metadata) for i in range(start_idx, min(end_idx, total_pages))]\n",
    "            \n",
    "            # Process the batch in parallel\n",
    "            for page_number, document in executor.map(process_page, batch_args):\n",
    "                documents[page_number] = document\n",
    "                with pbar_lock:\n",
    "                    pbar.update(1)\n",
    "    \n",
    "    # Process pages in batches\n",
    "    try:\n",
    "        for batch_start in range(0, total_pages, batch_size):\n",
    "            batch_end = batch_start + batch_size\n",
    "            process_batch(batch_start, batch_end)\n",
    "    finally:\n",
    "        pbar.close()\n",
    "    \n",
    "    return documents"
   ]
  },
  {
   "cell_type": "code",
   "execution_count": null,
   "metadata": {
    "vscode": {
     "languageId": "plaintext"
    }
   },
   "outputs": [],
   "source": [
    "pdf_path = \"<Your file path>\"\n",
    "batch_size = 70\n",
    "all_documents = process_all_pages_parallel(pdf_path, batch_size)"
   ]
  }
 ],
 "metadata": {
  "language_info": {
   "name": "python"
  }
 },
 "nbformat": 4,
 "nbformat_minor": 2
}
